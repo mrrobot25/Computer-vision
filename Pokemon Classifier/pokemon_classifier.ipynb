{
 "cells": [
  {
   "cell_type": "code",
   "execution_count": 5,
   "metadata": {},
   "outputs": [],
   "source": [
    "import tensorflow as tf\n",
    "from tensorflow import keras\n",
    "from tensorflow.keras.layers import Conv2D,Dense,Flatten,MaxPooling2D,Dropout\n",
    "from tensorflow.keras import Model\n",
    "import os\n"
   ]
  },
  {
   "cell_type": "code",
   "execution_count": 6,
   "metadata": {},
   "outputs": [],
   "source": [
    "train_img_path='E:\\deep learning\\datasets\\data\\PokemonData'\n"
   ]
  },
  {
   "cell_type": "code",
   "execution_count": 8,
   "metadata": {},
   "outputs": [
    {
     "name": "stdout",
     "output_type": "stream",
     "text": [
      "WARNING:tensorflow:From C:\\Users\\User\\Anaconda3\\lib\\site-packages\\tensorflow_core\\python\\ops\\resource_variable_ops.py:1630: calling BaseResourceVariable.__init__ (from tensorflow.python.ops.resource_variable_ops) with constraint is deprecated and will be removed in a future version.\n",
      "Instructions for updating:\n",
      "If using Keras pass *_constraint arguments to layers.\n"
     ]
    }
   ],
   "source": [
    "model=tf.keras.models.Sequential([\n",
    "    Conv2D(16,(3,3),input_shape=(238, 226, 3),activation='relu'),\n",
    "    MaxPooling2D(2,2),\n",
    "    Conv2D(32,(3,3),activation='relu'),\n",
    "    MaxPooling2D(2,2),\n",
    "    Conv2D(64,(3,3),activation='relu'),\n",
    "    MaxPooling2D(2,2),\n",
    " \n",
    "    Flatten(),\n",
    "    Dense(1024,activation='relu'),\n",
    "    Dense(512,activation='relu'),\n",
    "    Dense(256,activation='relu'),\n",
    "\n",
    "    Dense(150,activation='softmax')\n",
    "])"
   ]
  },
  {
   "cell_type": "code",
   "execution_count": 9,
   "metadata": {},
   "outputs": [
    {
     "name": "stdout",
     "output_type": "stream",
     "text": [
      "Model: \"sequential\"\n",
      "_________________________________________________________________\n",
      "Layer (type)                 Output Shape              Param #   \n",
      "=================================================================\n",
      "conv2d_3 (Conv2D)            (None, 236, 224, 16)      448       \n",
      "_________________________________________________________________\n",
      "max_pooling2d_3 (MaxPooling2 (None, 118, 112, 16)      0         \n",
      "_________________________________________________________________\n",
      "conv2d_4 (Conv2D)            (None, 116, 110, 32)      4640      \n",
      "_________________________________________________________________\n",
      "max_pooling2d_4 (MaxPooling2 (None, 58, 55, 32)        0         \n",
      "_________________________________________________________________\n",
      "conv2d_5 (Conv2D)            (None, 56, 53, 64)        18496     \n",
      "_________________________________________________________________\n",
      "max_pooling2d_5 (MaxPooling2 (None, 28, 26, 64)        0         \n",
      "_________________________________________________________________\n",
      "flatten (Flatten)            (None, 46592)             0         \n",
      "_________________________________________________________________\n",
      "dense (Dense)                (None, 1024)              47711232  \n",
      "_________________________________________________________________\n",
      "dense_1 (Dense)              (None, 512)               524800    \n",
      "_________________________________________________________________\n",
      "dense_2 (Dense)              (None, 256)               131328    \n",
      "_________________________________________________________________\n",
      "dense_3 (Dense)              (None, 150)               38550     \n",
      "=================================================================\n",
      "Total params: 48,429,494\n",
      "Trainable params: 48,429,494\n",
      "Non-trainable params: 0\n",
      "_________________________________________________________________\n"
     ]
    }
   ],
   "source": [
    "model.summary()"
   ]
  },
  {
   "cell_type": "code",
   "execution_count": 10,
   "metadata": {},
   "outputs": [],
   "source": [
    "from tensorflow.keras.optimizers import Adam\n",
    "model.compile(optimizer='Adam',loss='sparse_categorical_crossentropy',metrics=['acc'])\n"
   ]
  },
  {
   "cell_type": "code",
   "execution_count": 11,
   "metadata": {
    "scrolled": true
   },
   "outputs": [],
   "source": [
    "\n",
    "from tensorflow.keras.preprocessing.image import ImageDataGenerator\n",
    "img_datagen=ImageDataGenerator(rescale=1/255,\n",
    "           rotation_range=40,\n",
    "           width_shift_range=0.2,\n",
    "           height_shift_range=0.2,\n",
    "           shear_range=0.2,\n",
    "           zoom_range=0.2,\n",
    "           horizontal_flip=True,\n",
    "           )"
   ]
  },
  {
   "cell_type": "code",
   "execution_count": 12,
   "metadata": {},
   "outputs": [
    {
     "name": "stdout",
     "output_type": "stream",
     "text": [
      "Found 6820 images belonging to 150 classes.\n"
     ]
    }
   ],
   "source": [
    "train_img=img_datagen.flow_from_directory(train_img_path,\n",
    "                                         target_size=(238,226),\n",
    "                                         class_mode='sparse',\n",
    "                                         batch_size=64)"
   ]
  },
  {
   "cell_type": "code",
   "execution_count": 13,
   "metadata": {},
   "outputs": [
    {
     "name": "stdout",
     "output_type": "stream",
     "text": [
      "Epoch 1/35\n",
      "100/100 [==============================] - 278s 3s/step - loss: 4.8912 - acc: 0.0129\n",
      "Epoch 2/35\n",
      "100/100 [==============================] - 278s 3s/step - loss: 4.4406 - acc: 0.0308\n",
      "Epoch 3/35\n",
      "100/100 [==============================] - 277s 3s/step - loss: 4.0212 - acc: 0.0676\n",
      "Epoch 4/35\n",
      "100/100 [==============================] - 279s 3s/step - loss: 3.5911 - acc: 0.1089\n",
      "Epoch 5/35\n",
      "100/100 [==============================] - 279s 3s/step - loss: 3.2994 - acc: 0.1582\n",
      "Epoch 6/35\n",
      "100/100 [==============================] - 275s 3s/step - loss: 3.0616 - acc: 0.1995\n",
      "Epoch 7/35\n",
      "100/100 [==============================] - 272s 3s/step - loss: 2.8696 - acc: 0.2359\n",
      "Epoch 8/35\n",
      "100/100 [==============================] - 273s 3s/step - loss: 2.6739 - acc: 0.2789\n",
      "Epoch 9/35\n",
      "100/100 [==============================] - 275s 3s/step - loss: 2.5878 - acc: 0.2966\n",
      "Epoch 10/35\n",
      "100/100 [==============================] - 276s 3s/step - loss: 2.4540 - acc: 0.3277\n",
      "Epoch 11/35\n",
      "100/100 [==============================] - 314s 3s/step - loss: 2.3503 - acc: 0.3519\n",
      "Epoch 12/35\n",
      "100/100 [==============================] - 311s 3s/step - loss: 2.2449 - acc: 0.3712\n",
      "Epoch 13/35\n",
      "100/100 [==============================] - 310s 3s/step - loss: 2.1485 - acc: 0.4038\n",
      "Epoch 14/35\n",
      "100/100 [==============================] - 347s 3s/step - loss: 2.0516 - acc: 0.4133\n",
      "Epoch 15/35\n",
      "100/100 [==============================] - 371s 4s/step - loss: 1.9253 - acc: 0.4652\n",
      "Epoch 16/35\n",
      "100/100 [==============================] - 370s 4s/step - loss: 1.8570 - acc: 0.4681\n",
      "Epoch 17/35\n",
      "100/100 [==============================] - 370s 4s/step - loss: 1.7816 - acc: 0.4881\n",
      "Epoch 18/35\n",
      "100/100 [==============================] - 4249s 42s/step - loss: 1.7218 - acc: 0.5033\n",
      "Epoch 19/35\n",
      "100/100 [==============================] - 356s 4s/step - loss: 1.6733 - acc: 0.5122\n",
      "Epoch 20/35\n",
      "100/100 [==============================] - 283s 3s/step - loss: 1.5766 - acc: 0.5355\n",
      "Epoch 21/35\n",
      "100/100 [==============================] - 276s 3s/step - loss: 1.5425 - acc: 0.5515\n",
      "Epoch 22/35\n",
      "100/100 [==============================] - 286s 3s/step - loss: 1.4225 - acc: 0.5758\n",
      "Epoch 23/35\n",
      "100/100 [==============================] - 275s 3s/step - loss: 1.5006 - acc: 0.5596\n",
      "Epoch 24/35\n",
      "100/100 [==============================] - 273s 3s/step - loss: 1.3572 - acc: 0.5946\n",
      "Epoch 25/35\n",
      "100/100 [==============================] - 272s 3s/step - loss: 1.3485 - acc: 0.5983\n",
      "Epoch 26/35\n",
      "100/100 [==============================] - 283s 3s/step - loss: 1.2934 - acc: 0.6140\n",
      "Epoch 27/35\n",
      "100/100 [==============================] - 282s 3s/step - loss: 1.2594 - acc: 0.6185\n",
      "Epoch 28/35\n",
      "100/100 [==============================] - 279s 3s/step - loss: 1.1989 - acc: 0.6408\n",
      "Epoch 29/35\n",
      "100/100 [==============================] - 273s 3s/step - loss: 1.1525 - acc: 0.6522\n",
      "Epoch 30/35\n",
      "100/100 [==============================] - 269s 3s/step - loss: 1.1207 - acc: 0.6568\n",
      "Epoch 31/35\n",
      "100/100 [==============================] - 270s 3s/step - loss: 1.0801 - acc: 0.6659\n",
      "Epoch 32/35\n",
      "100/100 [==============================] - 269s 3s/step - loss: 1.0389 - acc: 0.6830\n",
      "Epoch 33/35\n",
      "100/100 [==============================] - 268s 3s/step - loss: 0.9789 - acc: 0.6930\n",
      "Epoch 34/35\n",
      "100/100 [==============================] - 267s 3s/step - loss: 0.9611 - acc: 0.7003\n",
      "Epoch 35/35\n",
      "100/100 [==============================] - 270s 3s/step - loss: 0.9574 - acc: 0.7048\n"
     ]
    },
    {
     "data": {
      "text/plain": [
       "<tensorflow.python.keras.callbacks.History at 0x2090d62cd88>"
      ]
     },
     "execution_count": 13,
     "metadata": {},
     "output_type": "execute_result"
    }
   ],
   "source": [
    "model.fit_generator(train_img,\n",
    "                  steps_per_epoch=100,\n",
    "                  epochs=35)"
   ]
  },
  {
   "cell_type": "code",
   "execution_count": 15,
   "metadata": {},
   "outputs": [],
   "source": [
    "from tensorflow.keras.preprocessing import image"
   ]
  },
  {
   "cell_type": "code",
   "execution_count": 16,
   "metadata": {},
   "outputs": [],
   "source": [
    "img=image.load_img('E:/deep learning/datasets/data/PokemonData/Abra/2eb2a528f9a247358452b3c740df69a0.jpg')"
   ]
  },
  {
   "cell_type": "code",
   "execution_count": 17,
   "metadata": {},
   "outputs": [],
   "source": [
    "img1=image.img_to_array(img)"
   ]
  },
  {
   "cell_type": "code",
   "execution_count": 18,
   "metadata": {},
   "outputs": [
    {
     "data": {
      "text/plain": [
       "(238, 226, 3)"
      ]
     },
     "execution_count": 18,
     "metadata": {},
     "output_type": "execute_result"
    }
   ],
   "source": [
    "img1.shape"
   ]
  },
  {
   "cell_type": "code",
   "execution_count": 23,
   "metadata": {},
   "outputs": [
    {
     "data": {
      "image/png": "[encoded data removed]",
      "text/plain": [
       "<PIL.Image.Image image mode=RGB size=226x238 at 0x209102A8648>"
      ]
     },
     "execution_count": 23,
     "metadata": {},
     "output_type": "execute_result"
    }
   ],
   "source": [
    "from tensorflow.keras.preprocessing import image\n",
    "import numpy as np\n",
    "img=image.load_img('pok.png',target_size=(238,226))\n",
    "x=image.img_to_array(img)\n",
    "x=np.expand_dims(x,axis=0)\n",
    "images=np.vstack([x])\n",
    "classes=model.predict_classes(images,batch_size=2)\n",
    "img"
   ]
  },
  {
   "cell_type": "code",
   "execution_count": 25,
   "metadata": {},
   "outputs": [
    {
     "name": "stdout",
     "output_type": "stream",
     "text": [
      "this is Pikachu\n"
     ]
    }
   ],
   "source": [
    "import pandas as pd\n",
    "pokemons=os.listdir('E:/deep learning/datasets/data/PokemonData')\n",
    "pokemons=pd.Series(pokemons)\n",
    "for i in range(151):\n",
    "    if classes==i:\n",
    "        print('this is {}'.format(pokemons[i]))\n",
    "        \n"
   ]
  },
  {
   "cell_type": "code",
   "execution_count": 26,
   "metadata": {},
   "outputs": [],
   "source": [
    "model.save('pokemon_classifier.h5')"
   ]
  },
  {
   "cell_type": "code",
   "execution_count": null,
   "metadata": {},
   "outputs": [],
   "source": []
  },
  {
   "cell_type": "code",
   "execution_count": null,
   "metadata": {},
   "outputs": [],
   "source": []
  },
  {
   "cell_type": "code",
   "execution_count": null,
   "metadata": {},
   "outputs": [],
   "source": []
  }
 ],
 "metadata": {
  "kernelspec": {
   "display_name": "Python 3",
   "language": "python",
   "name": "python3"
  },
  "language_info": {
   "codemirror_mode": {
    "name": "ipython",
    "version": 3
   },
   "file_extension": ".py",
   "mimetype": "text/x-python",
   "name": "python",
   "nbconvert_exporter": "python",
   "pygments_lexer": "ipython3",
   "version": "3.7.4"
  }
 },
 "nbformat": 4,
 "nbformat_minor": 2
}
